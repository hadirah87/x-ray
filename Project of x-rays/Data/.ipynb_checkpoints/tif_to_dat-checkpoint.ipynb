{
 "cells": [
  {
   "cell_type": "code",
   "execution_count": 1,
   "metadata": {},
   "outputs": [
    {
     "ename": "ModuleNotFoundError",
     "evalue": "No module named 'dectris'",
     "output_type": "error",
     "traceback": [
      "\u001b[0;31m---------------------------------------------------------------------------\u001b[0m",
      "\u001b[0;31mModuleNotFoundError\u001b[0m                       Traceback (most recent call last)",
      "\u001b[0;32m<ipython-input-1-c01404b9dd19>\u001b[0m in \u001b[0;36m<module>\u001b[0;34m\u001b[0m\n\u001b[1;32m      5\u001b[0m \u001b[0msys\u001b[0m\u001b[0;34m.\u001b[0m\u001b[0mpath\u001b[0m\u001b[0;34m.\u001b[0m\u001b[0minsert\u001b[0m\u001b[0;34m(\u001b[0m\u001b[0;36m0\u001b[0m\u001b[0;34m,\u001b[0m \u001b[0;34mr\"C:\\Program Files (x86)\\DECTRIS\\ALBULA\\ALBULA_3.3.0\\bin\"\u001b[0m\u001b[0;34m)\u001b[0m\u001b[0;34m\u001b[0m\u001b[0;34m\u001b[0m\u001b[0m\n\u001b[1;32m      6\u001b[0m \u001b[0msys\u001b[0m\u001b[0;34m.\u001b[0m\u001b[0mpath\u001b[0m\u001b[0;34m.\u001b[0m\u001b[0minsert\u001b[0m\u001b[0;34m(\u001b[0m\u001b[0;36m0\u001b[0m\u001b[0;34m,\u001b[0m \u001b[0;34mr\"C:\\Program Files (x86)\\DECTRIS\\ALBULA\\ALBULA_3.3.0\\python\"\u001b[0m\u001b[0;34m)\u001b[0m\u001b[0;34m\u001b[0m\u001b[0;34m\u001b[0m\u001b[0m\n\u001b[0;32m----> 7\u001b[0;31m \u001b[0;32mimport\u001b[0m \u001b[0mdectris\u001b[0m\u001b[0;34m.\u001b[0m\u001b[0malbula\u001b[0m\u001b[0;34m\u001b[0m\u001b[0;34m\u001b[0m\u001b[0m\n\u001b[0m",
      "\u001b[0;31mModuleNotFoundError\u001b[0m: No module named 'dectris'"
     ]
    }
   ],
   "source": [
    "import sys\n",
    "import os\n",
    "import numpy as np\n",
    "\n",
    "sys.path.insert(0, r\"C:\\Program Files (x86)\\DECTRIS\\ALBULA\\ALBULA_3.3.0\\bin\")\n",
    "sys.path.insert(0, r\"C:\\Program Files (x86)\\DECTRIS\\ALBULA\\ALBULA_3.3.0\\python\")\n",
    "import dectris.albula"
   ]
  },
  {
   "cell_type": "code",
   "execution_count": 2,
   "metadata": {},
   "outputs": [
    {
     "name": "stdout",
     "output_type": "stream",
     "text": [
      "C:\\Users\\hrahmani\\Desktop\\tif_for_xray\n",
      "['SNS_C11.7_2525_0.2deg_000001_SAXS.tif', 'SNS_C11.7_2525_0.2deg_sweep20_000001_SAXS.tif', 'SNS_C11.7_2525_0.2deg_sweep20_000002_SAXS.tif', 'SNS_C11.7_2525_0.2deg_sweep20_000003_SAXS.tif', 'SNS_C11.7_2525_0.2deg_sweep20_000004_SAXS.tif', 'SNS_C11.7_2525_0.2deg_sweep20_000005_SAXS.tif', 'SNS_C11.7_2525_0.2deg_sweep20_000006_SAXS.tif', 'SNS_C11.7_2525_0.2deg_sweep20_000007_SAXS.tif', 'SNS_C11.7_2525_0.2deg_sweep20_000008_SAXS.tif', 'SNS_C11.7_2525_0.2deg_sweep20_000009_SAXS.tif', 'SNS_C11.7_2525_0.2deg_sweep20_000010_SAXS.tif']\n"
     ]
    }
   ],
   "source": [
    "path='./'\n",
    "folder='tif/'\n",
    "list=os.listdir(path+folder)\n",
    "directory = os.path.abspath('.') # current directory\n",
    "print(directory)\n",
    "print(list)"
   ]
  },
  {
   "cell_type": "code",
   "execution_count": 3,
   "metadata": {
    "collapsed": true
   },
   "outputs": [],
   "source": [
    "for items in list:\n",
    "    dectris_image = dectris.albula.readImage(r\"%s%s%s\"%(path,folder,items))\n",
    "    data = dectris_image.data()\n",
    "    np.savetxt('%sdat/%s.dat'%(path,items[:-4]),data, delimiter=' ')\n",
    "\n",
    "    "
   ]
  },
  {
   "cell_type": "code",
   "execution_count": 3,
   "metadata": {},
   "outputs": [
    {
     "name": "stdout",
     "output_type": "stream",
     "text": [
      "\u001b[31mERROR: Could not find a version that satisfies the requirement dectris\u001b[0m\n",
      "\u001b[31mERROR: No matching distribution found for dectris\u001b[0m\n",
      "Note: you may need to restart the kernel to use updated packages.\n"
     ]
    }
   ],
   "source": [
    "pip install dectris"
   ]
  },
  {
   "cell_type": "code",
   "execution_count": null,
   "metadata": {},
   "outputs": [],
   "source": []
  }
 ],
 "metadata": {
  "kernelspec": {
   "display_name": "Python 3",
   "language": "python",
   "name": "python3"
  },
  "language_info": {
   "codemirror_mode": {
    "name": "ipython",
    "version": 3
   },
   "file_extension": ".py",
   "mimetype": "text/x-python",
   "name": "python",
   "nbconvert_exporter": "python",
   "pygments_lexer": "ipython3",
   "version": "3.8.8"
  }
 },
 "nbformat": 4,
 "nbformat_minor": 2
}
